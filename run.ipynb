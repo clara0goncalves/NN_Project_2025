{
 "cells": [
  {
   "cell_type": "markdown",
   "id": "71aa65b1-1214-4a48-87d9-b6671183a262",
   "metadata": {},
   "source": [
    "### 1. Data Preparation"
   ]
  },
  {
   "cell_type": "markdown",
   "id": "6b4d99c7-5692-4625-85e4-c41f384364ef",
   "metadata": {},
   "source": [
    "- Preprocess Images and mask"
   ]
  },
  {
   "cell_type": "code",
   "execution_count": null,
   "id": "5d003ee2-1e8c-42d0-a885-37659bb754d5",
   "metadata": {},
   "outputs": [],
   "source": [
    "!python3 /src/preprocesing/prepare_data.py"
   ]
  },
  {
   "cell_type": "markdown",
   "id": "1c5873c7-db23-4bf1-9076-f884d15b80c5",
   "metadata": {},
   "source": [
    "- Visualize batch of train dataset"
   ]
  },
  {
   "cell_type": "code",
   "execution_count": null,
   "id": "fa43e4bc-01d5-42e8-9f78-ab4c776ea5c7",
   "metadata": {},
   "outputs": [],
   "source": [
    "!python3 /src/preprocesing/visualize_dataset.py"
   ]
  },
  {
   "cell_type": "markdown",
   "id": "cbaf9572-cef0-44e1-846f-0d588650b2a0",
   "metadata": {},
   "source": [
    "### 2. Training"
   ]
  },
  {
   "cell_type": "code",
   "execution_count": null,
   "id": "2c89d8fc-41f9-463c-a7e7-0994674b6cf6",
   "metadata": {},
   "outputs": [],
   "source": [
    "!pip install -r requirements.txt"
   ]
  },
  {
   "cell_type": "code",
   "execution_count": null,
   "id": "0d7c29d5-03b5-429b-a056-087d9067bc96",
   "metadata": {},
   "outputs": [
    {
     "name": "stdout",
     "output_type": "stream",
     "text": [
      "2025-06-14 09:41:06.540632: I tensorflow/core/util/port.cc:153] oneDNN custom operations are on. You may see slightly different numerical results due to floating-point round-off errors from different computation orders. To turn them off, set the environment variable `TF_ENABLE_ONEDNN_OPTS=0`.\n",
      "2025-06-14 09:41:06.555786: E external/local_xla/xla/stream_executor/cuda/cuda_fft.cc:477] Unable to register cuFFT factory: Attempting to register factory for plugin cuFFT when one has already been registered\n",
      "WARNING: All log messages before absl::InitializeLog() is called are written to STDERR\n",
      "E0000 00:00:1749894066.576139  284400 cuda_dnn.cc:8310] Unable to register cuDNN factory: Attempting to register factory for plugin cuDNN when one has already been registered\n",
      "E0000 00:00:1749894066.581517  284400 cuda_blas.cc:1418] Unable to register cuBLAS factory: Attempting to register factory for plugin cuBLAS when one has already been registered\n",
      "2025-06-14 09:41:06.610476: I tensorflow/core/platform/cpu_feature_guard.cc:210] This TensorFlow binary is optimized to use available CPU instructions in performance-critical operations.\n",
      "To enable the following instructions: AVX2 AVX512F AVX512_VNNI FMA, in other operations, rebuild TensorFlow with the appropriate compiler flags.\n",
      "Image batch shape: torch.Size([16, 3, 256, 256])\n",
      "Mask batch shape: torch.Size([16, 1, 256, 256])\n",
      "Using device: cuda\n",
      "Starting training for 100 epochs\n",
      "Model parameters: 31,037,633\n",
      "Training Epoch 1:   0%|                                 | 0/125 [00:00<?, ?it/s]/home/omniflow/.local/lib/python3.10/site-packages/torch/nn/modules/conv.py:456: UserWarning: Applied workaround for CuDNN issue, install nvrtc.so (Triggered internally at ../aten/src/ATen/native/cudnn/Conv_v8.cpp:80.)\n",
      "  return F.conv2d(input, weight, bias, self.stride,\n",
      "Training Epoch 1: 100%|█| 125/125 [00:41<00:00,  3.01it/s, Loss=0.3944, Dice=0.7\n",
      "Validation Epoch 1: 100%|█| 27/27 [00:04<00:00,  6.15it/s, Loss=0.3055, Dice=0.8\n",
      "\n",
      "Epoch 1/100\n",
      "Train - Loss: 0.4418, Dice: 0.7032, IoU: 0.5481\n",
      "Val   - Loss: 0.3822, Dice: 0.7485, IoU: 0.6008\n",
      "LR: 1.00e-04\n",
      "New best model saved with Dice: 0.7485\n",
      "Training Epoch 2: 100%|█| 125/125 [00:39<00:00,  3.17it/s, Loss=0.5277, Dice=0.5\n",
      "Validation Epoch 2: 100%|█| 27/27 [00:04<00:00,  6.08it/s, Loss=0.2584, Dice=0.8\n",
      "\n",
      "Epoch 2/100\n",
      "Train - Loss: 0.3770, Dice: 0.7492, IoU: 0.6035\n",
      "Val   - Loss: 0.3393, Dice: 0.7676, IoU: 0.6254\n",
      "LR: 1.00e-04\n",
      "New best model saved with Dice: 0.7676\n",
      "Training Epoch 3:  39%|▍| 49/125 [00:15<00:20,  3.70it/s, Loss=0.3369, Dice=0.78"
     ]
    }
   ],
   "source": [
    "!python3 train.py"
   ]
  },
  {
   "cell_type": "markdown",
   "id": "524b16cd-0126-4001-8ee6-49f6f2498170",
   "metadata": {},
   "source": [
    "### 3. Evaluation"
   ]
  },
  {
   "cell_type": "code",
   "execution_count": null,
   "id": "6a977742-fcfb-4f94-8a98-c285fedf91f6",
   "metadata": {},
   "outputs": [],
   "source": [
    "!python3 evaluate.py"
   ]
  },
  {
   "cell_type": "markdown",
   "id": "951aa6d5-12be-4ed2-abb5-f46334761a2e",
   "metadata": {},
   "source": [
    "### 4. Inference"
   ]
  },
  {
   "cell_type": "code",
   "execution_count": null,
   "id": "07190388-1f0b-47c4-be19-602f0516ca66",
   "metadata": {},
   "outputs": [],
   "source": [
    "from utils.inference_utils import WaterBodySegmentor"
   ]
  },
  {
   "cell_type": "code",
   "execution_count": null,
   "id": "1e120d6f-5b36-4abb-b20f-11a5b1f2e83c",
   "metadata": {},
   "outputs": [],
   "source": [
    "# Initialize segmentor\n",
    "segmentor = WaterBodySegmentor('checkpoints/best.pth')\n",
    "\n",
    "# Single image prediction\n",
    "segmentor.visualize_prediction('test_image.jpg')\n",
    "\n",
    "# Batch processing\n",
    "segmentor.batch_predict('input_folder', 'output_folder')"
   ]
  },
  {
   "cell_type": "code",
   "execution_count": null,
   "id": "1c6fb852-0a6e-4434-b9a4-c22b2f508317",
   "metadata": {},
   "outputs": [],
   "source": []
  }
 ],
 "metadata": {
  "kernelspec": {
   "display_name": "Python 3 (ipykernel)",
   "language": "python",
   "name": "python3"
  },
  "language_info": {
   "codemirror_mode": {
    "name": "ipython",
    "version": 3
   },
   "file_extension": ".py",
   "mimetype": "text/x-python",
   "name": "python",
   "nbconvert_exporter": "python",
   "pygments_lexer": "ipython3",
   "version": "3.10.12"
  }
 },
 "nbformat": 4,
 "nbformat_minor": 5
}
